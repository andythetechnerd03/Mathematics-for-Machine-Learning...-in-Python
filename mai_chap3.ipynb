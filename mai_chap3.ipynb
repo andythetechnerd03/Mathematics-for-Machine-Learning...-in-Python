{
  "nbformat": 4,
  "nbformat_minor": 0,
  "metadata": {
    "colab": {
      "provenance": [],
      "collapsed_sections": [],
      "authorship_tag": "ABX9TyOnzr9Ik27W/JxQFab0pLpY",
      "include_colab_link": true
    },
    "kernelspec": {
      "name": "python3",
      "display_name": "Python 3"
    },
    "language_info": {
      "name": "python"
    }
  },
  "cells": [
    {
      "cell_type": "markdown",
      "metadata": {
        "id": "view-in-github",
        "colab_type": "text"
      },
      "source": [
        "<a href=\"https://colab.research.google.com/github/andythetechnerd03/Mathematics-for-Machine-Learning...-in-Python/blob/main/mai_chap3.ipynb\" target=\"_parent\"><img src=\"https://colab.research.google.com/assets/colab-badge.svg\" alt=\"Open In Colab\"/></a>"
      ]
    },
    {
      "cell_type": "markdown",
      "source": [
        "# Mathematics for Machine Learning... in Python"
      ],
      "metadata": {
        "id": "Bd11yie8XVS9"
      }
    },
    {
      "cell_type": "markdown",
      "source": [
        "## Chapter 3: Analytic Geometry"
      ],
      "metadata": {
        "id": "2HOHK-VFXgz_"
      }
    },
    {
      "cell_type": "markdown",
      "source": [
        "Hey there! Please run these codes below before proceeding!"
      ],
      "metadata": {
        "id": "wUok3n_Rh8DQ"
      }
    },
    {
      "cell_type": "code",
      "source": [
        "#@title Import libraries:\n",
        "import numpy as np\n",
        "import numpy.linalg as np_la\n",
        "import math"
      ],
      "metadata": {
        "id": "6YXVorkMYk6W",
        "cellView": "form"
      },
      "execution_count": null,
      "outputs": []
    },
    {
      "cell_type": "code",
      "source": [
        "#@title Input some stuff:\n",
        "def input_matrix(): # format: no.of rows + no.of columns + matrix order top-down\n",
        "    input_arr = list(map(float, input(\"Input Matrix: \").split()))\n",
        "    r,c = list(map(int, input_arr[0:2]))\n",
        "    assert len(input_arr) - 2 == r * c, \"This matrix looks weird!\"\n",
        "    mat = np.array(input_arr[2:]).reshape(r,c)\n",
        "    return r,c,mat\n",
        "\n",
        "def input_vector(): # format: no.of rows + vector order top-down\n",
        "    input_arr = list(map(float, input(\"Input Vector: \").split()))\n",
        "    n = int(input_arr[0])\n",
        "    assert len(input_arr) - 1 == n, \"This vector looks weird!\"\n",
        "    vec = np.array(input_arr[1:])\n",
        "    return n, vec"
      ],
      "metadata": {
        "id": "PITbkKbmX02F",
        "cellView": "form"
      },
      "execution_count": null,
      "outputs": []
    },
    {
      "cell_type": "markdown",
      "source": [
        "Hey there! Please run these codes above before proceeding!"
      ],
      "metadata": {
        "id": "t2heRS-QiDfk"
      }
    },
    {
      "cell_type": "markdown",
      "source": [
        "### Norms"
      ],
      "metadata": {
        "id": "4NDNarhhXtDZ"
      }
    },
    {
      "cell_type": "code",
      "execution_count": null,
      "metadata": {
        "id": "bmGR21itU6ew",
        "cellView": "form"
      },
      "outputs": [],
      "source": [
        "#@title Code + Execute\n",
        "n, v = input_vector()\n",
        "print(\"Norm: \", np_la.norm(v)) # default l2 norm, for l1 norm include 1 as 2nd parameter"
      ]
    },
    {
      "cell_type": "markdown",
      "source": [
        "### Inner product"
      ],
      "metadata": {
        "id": "Qr1Pndj3qqRA"
      }
    },
    {
      "cell_type": "code",
      "source": [
        "#@title Code:\n",
        "# compute vT*A*v (inner product with matrix and vector)\n",
        "def inner_with_matrix(n1, v1, n2, v2, r, c, m):\n",
        "    assert r == c, \"Oops! Inner products require square matrix!\"\n",
        "    assert n1 == r, \"Oops! Vector and matrix are not compatible!\"\n",
        "    assert n1 == n2, \"Oops! 2 vectors are not compatible\"\n",
        "    return np.dot(np.dot(v1, m), v2)"
      ],
      "metadata": {
        "id": "LVd3Sb5Bd2Os",
        "cellView": "form"
      },
      "execution_count": null,
      "outputs": []
    },
    {
      "cell_type": "code",
      "source": [
        "#@title Execute:\n",
        "n1, vector1 = input_vector()\n",
        "n2, vector2 = input_vector()\n",
        "row, column, matrix = input_matrix() \n",
        "print(\"Inner product: \", inner_with_matrix(n1, vector1, n2, vector2, row, column, matrix))"
      ],
      "metadata": {
        "colab": {
          "base_uri": "https://localhost:8080/"
        },
        "id": "Ct-EgCAExBka",
        "outputId": "34329bac-b0af-461e-8a9d-70e23219ff3b",
        "cellView": "form"
      },
      "execution_count": null,
      "outputs": [
        {
          "output_type": "stream",
          "name": "stdout",
          "text": [
            "Input Vector: 2 1 0\n",
            "Input Vector: 2 0 1\n",
            "Input Matrix: 2 2 1 0 0 1\n",
            "Inner product:  0.0\n"
          ]
        }
      ]
    },
    {
      "cell_type": "markdown",
      "source": [
        "### Check symmetric, positive definite of inner product"
      ],
      "metadata": {
        "id": "wHgqIxiR0kE-"
      }
    },
    {
      "cell_type": "markdown",
      "source": [
        "Simple! Check if matrix is equal to its transpose, and that all eigenvalues are positive."
      ],
      "metadata": {
        "id": "_NJlv3X00vk0"
      }
    },
    {
      "cell_type": "code",
      "source": [
        "#@title Code:\n",
        "def check_sym(m):\n",
        "    # Transpose of given Array\n",
        "    a = m.transpose()\n",
        "    # checking if both the arrays are of equal size\n",
        "    if a.shape == m.shape:\n",
        "        # comparing the arrays using == and all() method\n",
        "        if (a == m).all():\n",
        "            return True\n",
        "        else:\n",
        "            return False\n",
        "    else:\n",
        "        return False\n",
        "\n",
        "def check_posdef(m):\n",
        "    eigenvalues = np_la.eigvals(m)\n",
        "    for ev in eigenvalues:\n",
        "      if ev <= 0:\n",
        "        return False\n",
        "    return True"
      ],
      "metadata": {
        "id": "l9S_bmabsKvZ",
        "cellView": "form"
      },
      "execution_count": null,
      "outputs": []
    },
    {
      "cell_type": "code",
      "source": [
        "#@title Execute:\n",
        "row, column, matrix = input_matrix()\n",
        "print(\"Symmetry: \", check_sym(matrix))\n",
        "print(\"Positive definite: \", check_posdef(matrix))"
      ],
      "metadata": {
        "colab": {
          "base_uri": "https://localhost:8080/"
        },
        "id": "2H6nIvQ02-uH",
        "outputId": "3c1d368a-206f-45fd-a7fe-e81bad3c3976",
        "cellView": "form"
      },
      "execution_count": null,
      "outputs": [
        {
          "output_type": "stream",
          "name": "stdout",
          "text": [
            "Input Matrix: 2 2 9 6 6 3\n",
            "Symmetry:  True\n",
            "Positive definite:  False\n"
          ]
        }
      ]
    },
    {
      "cell_type": "markdown",
      "source": [
        "### Projection onto a Subspace spanned by Matrix"
      ],
      "metadata": {
        "id": "q0PHQ-9caQM3"
      }
    },
    {
      "cell_type": "markdown",
      "source": [
        "Good news! We have a formula for all of them, including projection matrix, coefficient vector and projection vector. </br>\n",
        "Let's say we have vector x and the subspace S = {b<sub>1</sub>, b<sub>2</sub>,... b<sub>n</sub>} to be projected on represented by a matrix B = [b<sub>1</sub>, b<sub>2</sub>,... b<sub>n</sub>]. Then we have the following: <br/>\n",
        "\n",
        "\n",
        "*   Coordinates of the vector: λ = (B<sup>T</sup>B)<sup>-1</sup>B<sup>T</sup>x\n",
        "*   Projection matrix: P = B(B<sup>T</sup>B)<sup>-1</sup>B<sup>T</sup>\n",
        "*   End-result vector: π<sub>S</sub>(x) = Px = Bλ = B(B<sup>T</sup>B)<sup>-1</sup>B<sup>T</sup>x\n",
        "\n",
        "Hard to remember, right? Don't worry, you'll get used to it! Besides, you're coding all of them anyways!\n",
        "\n"
      ],
      "metadata": {
        "id": "oPq-4n2i4zml"
      }
    },
    {
      "cell_type": "code",
      "source": [
        "#@title Code:\n",
        "def projection(B, x):\n",
        "    BT = B.transpose()\n",
        "    pse_inv = np.dot(np_la.inv(np.dot(BT, B)), BT)\n",
        "    coords = np.dot(pse_inv, x)\n",
        "    proj_mat = np.dot(B, pse_inv)\n",
        "    proj_vec = np.dot(proj_mat, x)\n",
        "    return coords, proj_mat, proj_vec \n"
      ],
      "metadata": {
        "id": "Bf7Jc3R23RQK",
        "cellView": "form"
      },
      "execution_count": null,
      "outputs": []
    },
    {
      "cell_type": "code",
      "source": [
        "#@title Execute:\n",
        "# Note: if projection subspace is just a vector, input it vertically (e.g. 3 1 1 2 2)\n",
        "n,v = input_vector()\n",
        "r,c,u = input_matrix()\n",
        "coords, proj_mat, proj_vec = projection(u, v)\n",
        "print(\"Coefficient: \", coords)\n",
        "print(\"Projection matrix: \", proj_mat)\n",
        "print(\"The projected vector is: \", proj_vec)"
      ],
      "metadata": {
        "cellView": "form",
        "id": "jzwVm8PEirkD"
      },
      "execution_count": null,
      "outputs": []
    },
    {
      "cell_type": "markdown",
      "source": [
        "### Gram-Schmidt Orthogonalization"
      ],
      "metadata": {
        "id": "ZPNtTbtpmTwt"
      }
    },
    {
      "cell_type": "markdown",
      "source": [
        "In order to perform Gram-Schmidt Orthogonalization, just take the following steps.\n",
        "Take the input basis {b<sub>1</sub>, b<sub>2</sub>,... b<sub>n</sub>} and:\n",
        "\n",
        "*   Keep the initial basis i.e. **b<sub>1</sub>**\n",
        "*   For each of the next basis, subtract it by its projection onto the span of its previous basis, so that makes it: </br>\n",
        "* **b<sub>i</sub> = b<sub>i</sub> - π<sub>span{b<sub>1</sub>,...b<sub>i-1</sub>}</sub>(b<sub>i</sub>)** with i = 2,...,n\n",
        "\n",
        "***Note***: In case of Gram-Schmidt Ortho-NORMAL-ization (basically each basis is length 1), simply divide each basis by its length.\n",
        "\n"
      ],
      "metadata": {
        "id": "xaVo2d0EzxwW"
      }
    },
    {
      "cell_type": "code",
      "source": [
        "#@title Code:\n",
        "def gram_schmidt(basis):\n",
        "    new_basis = [basis[0]]\n",
        "    span = np.array([basis[0]])\n",
        "    for base in basis[1:]:\n",
        "        coords, proj_mat, proj_vec = projection(span.transpose(), np.array(base))\n",
        "        np.append(span,[base], axis=0)\n",
        "        base = base - proj_vec\n",
        "        new_basis.append(base)\n",
        "    return new_basis"
      ],
      "metadata": {
        "cellView": "form",
        "id": "1afxlrRxjLeH"
      },
      "execution_count": null,
      "outputs": []
    },
    {
      "cell_type": "code",
      "source": [
        "#@title Execute: (Remember to input basis as rows)\n",
        "r,c,basis = input_matrix()\n",
        "print(\"Orthogonal basis:\")\n",
        "result = gram_schmidt(basis)\n",
        "for base in result:\n",
        "    print(base)\n",
        "print(\"Orthonormal basis:\")\n",
        "for base in result:\n",
        "    print(base/np_la.norm(base))"
      ],
      "metadata": {
        "cellView": "form",
        "id": "4Qm4zXQ4syAV"
      },
      "execution_count": null,
      "outputs": []
    },
    {
      "cell_type": "markdown",
      "source": [
        "That should be all that is covered in this chapter. The exercises you encounter will probably lie outside the scope of these codes I provide, but trust me, they're all just derivation of the above codes, and reimplementing them is not at all hard."
      ],
      "metadata": {
        "id": "bOk3xWY9gYKQ"
      }
    },
    {
      "cell_type": "markdown",
      "source": [
        "## Have a good day!\n",
        "Author: Đinh Ngọc Ân (Andy D.)"
      ],
      "metadata": {
        "id": "L5lvNzrag1Vk"
      }
    }
  ]
}